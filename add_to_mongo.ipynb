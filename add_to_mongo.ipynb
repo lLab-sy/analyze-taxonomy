{
 "cells": [
  {
   "cell_type": "code",
   "execution_count": 1,
   "metadata": {},
   "outputs": [
    {
     "name": "stdout",
     "output_type": "stream",
     "text": [
      "Requirement already satisfied: pymongo in /Users/ballsarin/.pyenv/versions/3.11.4/lib/python3.11/site-packages (4.5.0)\n",
      "Requirement already satisfied: dnspython<3.0.0,>=1.16.0 in /Users/ballsarin/.pyenv/versions/3.11.4/lib/python3.11/site-packages (from pymongo) (2.4.2)\n",
      "\n",
      "\u001b[1m[\u001b[0m\u001b[34;49mnotice\u001b[0m\u001b[1;39;49m]\u001b[0m\u001b[39;49m A new release of pip is available: \u001b[0m\u001b[31;49m23.1.2\u001b[0m\u001b[39;49m -> \u001b[0m\u001b[32;49m23.3.1\u001b[0m\n",
      "\u001b[1m[\u001b[0m\u001b[34;49mnotice\u001b[0m\u001b[1;39;49m]\u001b[0m\u001b[39;49m To update, run: \u001b[0m\u001b[32;49mpip install --upgrade pip\u001b[0m\n",
      "Note: you may need to restart the kernel to use updated packages.\n"
     ]
    }
   ],
   "source": [
    "%pip install pymongo"
   ]
  },
  {
   "cell_type": "code",
   "execution_count": 2,
   "metadata": {},
   "outputs": [],
   "source": [
    "from pymongo import MongoClient\n",
    "import pandas as pd\n",
    "import json"
   ]
  },
  {
   "cell_type": "code",
   "execution_count": 9,
   "metadata": {},
   "outputs": [],
   "source": [
    "keys = {}\n",
    "with open('keys.json', 'r') as file:\n",
    "    keys = json.load(file)"
   ]
  },
  {
   "cell_type": "code",
   "execution_count": 6,
   "metadata": {},
   "outputs": [
    {
     "name": "stdout",
     "output_type": "stream",
     "text": [
      "./data/taxonomy_path.csv\n"
     ]
    }
   ],
   "source": [
    "file_path = keys['taxonomyResFile']\n",
    "print(file_path)"
   ]
  },
  {
   "cell_type": "code",
   "execution_count": 7,
   "metadata": {},
   "outputs": [],
   "source": [
    "taxonomy_path_df = pd.read_csv(file_path)"
   ]
  },
  {
   "cell_type": "code",
   "execution_count": 8,
   "metadata": {},
   "outputs": [],
   "source": [
    "def convert_to_list(data):\n",
    "    data = data[2:-2]\n",
    "    if data:\n",
    "        return data.split(\"', '\")  # Assuming items are separated by commas\n",
    "    else:\n",
    "        return []\n",
    "\n",
    "new_taxonomy_path = taxonomy_path_df['taxonomy_path'].apply(convert_to_list)\n",
    "new_taxonomy_rank = taxonomy_path_df['taxonomy_rank'].apply(convert_to_list)"
   ]
  },
  {
   "cell_type": "code",
   "execution_count": 22,
   "metadata": {},
   "outputs": [
    {
     "data": {
      "text/plain": [
       "['root', 'cellular organisms', 'Bacteria']"
      ]
     },
     "execution_count": 22,
     "metadata": {},
     "output_type": "execute_result"
    }
   ],
   "source": [
    "new_taxonomy_path.loc[0]"
   ]
  },
  {
   "cell_type": "code",
   "execution_count": 23,
   "metadata": {},
   "outputs": [],
   "source": [
    "taxonomy_path_df['taxonomy_path'] = new_taxonomy_path\n",
    "taxonomy_path_df['taxonomy_rank'] = new_taxonomy_rank"
   ]
  },
  {
   "cell_type": "code",
   "execution_count": 24,
   "metadata": {},
   "outputs": [
    {
     "data": {
      "text/html": [
       "<div>\n",
       "<style scoped>\n",
       "    .dataframe tbody tr th:only-of-type {\n",
       "        vertical-align: middle;\n",
       "    }\n",
       "\n",
       "    .dataframe tbody tr th {\n",
       "        vertical-align: top;\n",
       "    }\n",
       "\n",
       "    .dataframe thead th {\n",
       "        text-align: right;\n",
       "    }\n",
       "</style>\n",
       "<table border=\"1\" class=\"dataframe\">\n",
       "  <thead>\n",
       "    <tr style=\"text-align: right;\">\n",
       "      <th></th>\n",
       "      <th>id</th>\n",
       "      <th>taxonomy_path</th>\n",
       "      <th>taxonomy_rank</th>\n",
       "    </tr>\n",
       "  </thead>\n",
       "  <tbody>\n",
       "    <tr>\n",
       "      <th>0</th>\n",
       "      <td>2</td>\n",
       "      <td>[root, cellular organisms, Bacteria]</td>\n",
       "      <td>[0, no rank, superkingdom]</td>\n",
       "    </tr>\n",
       "    <tr>\n",
       "      <th>1</th>\n",
       "      <td>6</td>\n",
       "      <td>[root, cellular organisms, Bacteria, Pseudomon...</td>\n",
       "      <td>[0, no rank, superkingdom, phylum, class, orde...</td>\n",
       "    </tr>\n",
       "    <tr>\n",
       "      <th>2</th>\n",
       "      <td>7</td>\n",
       "      <td>[root, cellular organisms, Bacteria, Pseudomon...</td>\n",
       "      <td>[0, no rank, superkingdom, phylum, class, orde...</td>\n",
       "    </tr>\n",
       "    <tr>\n",
       "      <th>3</th>\n",
       "      <td>9</td>\n",
       "      <td>[root, cellular organisms, Bacteria, Pseudomon...</td>\n",
       "      <td>[0, no rank, superkingdom, phylum, class, orde...</td>\n",
       "    </tr>\n",
       "    <tr>\n",
       "      <th>4</th>\n",
       "      <td>10</td>\n",
       "      <td>[root, cellular organisms, Bacteria, Pseudomon...</td>\n",
       "      <td>[0, no rank, superkingdom, phylum, class, orde...</td>\n",
       "    </tr>\n",
       "    <tr>\n",
       "      <th>...</th>\n",
       "      <td>...</td>\n",
       "      <td>...</td>\n",
       "      <td>...</td>\n",
       "    </tr>\n",
       "    <tr>\n",
       "      <th>2520227</th>\n",
       "      <td>3070616</td>\n",
       "      <td>[root, Viruses, Duplodnaviria, Heunggongvirae,...</td>\n",
       "      <td>[0, superkingdom, clade, kingdom, phylum, clas...</td>\n",
       "    </tr>\n",
       "    <tr>\n",
       "      <th>2520228</th>\n",
       "      <td>3070820</td>\n",
       "      <td>[root, Viruses, Duplodnaviria, Heunggongvirae,...</td>\n",
       "      <td>[0, superkingdom, clade, kingdom, phylum, clas...</td>\n",
       "    </tr>\n",
       "    <tr>\n",
       "      <th>2520229</th>\n",
       "      <td>3070859</td>\n",
       "      <td>[root, cellular organisms, Eukaryota, Sar, Str...</td>\n",
       "      <td>[0, no rank, superkingdom, clade, clade, phylu...</td>\n",
       "    </tr>\n",
       "    <tr>\n",
       "      <th>2520230</th>\n",
       "      <td>3070949</td>\n",
       "      <td>[root, cellular organisms, Bacteria, Pseudomon...</td>\n",
       "      <td>[0, no rank, superkingdom, phylum, class, orde...</td>\n",
       "    </tr>\n",
       "    <tr>\n",
       "      <th>2520231</th>\n",
       "      <td>3070954</td>\n",
       "      <td>[root, cellular organisms, Bacteria, Pseudomon...</td>\n",
       "      <td>[0, no rank, superkingdom, phylum, class, orde...</td>\n",
       "    </tr>\n",
       "  </tbody>\n",
       "</table>\n",
       "<p>2520232 rows × 3 columns</p>\n",
       "</div>"
      ],
      "text/plain": [
       "              id                                      taxonomy_path  \\\n",
       "0              2               [root, cellular organisms, Bacteria]   \n",
       "1              6  [root, cellular organisms, Bacteria, Pseudomon...   \n",
       "2              7  [root, cellular organisms, Bacteria, Pseudomon...   \n",
       "3              9  [root, cellular organisms, Bacteria, Pseudomon...   \n",
       "4             10  [root, cellular organisms, Bacteria, Pseudomon...   \n",
       "...          ...                                                ...   \n",
       "2520227  3070616  [root, Viruses, Duplodnaviria, Heunggongvirae,...   \n",
       "2520228  3070820  [root, Viruses, Duplodnaviria, Heunggongvirae,...   \n",
       "2520229  3070859  [root, cellular organisms, Eukaryota, Sar, Str...   \n",
       "2520230  3070949  [root, cellular organisms, Bacteria, Pseudomon...   \n",
       "2520231  3070954  [root, cellular organisms, Bacteria, Pseudomon...   \n",
       "\n",
       "                                             taxonomy_rank  \n",
       "0                               [0, no rank, superkingdom]  \n",
       "1        [0, no rank, superkingdom, phylum, class, orde...  \n",
       "2        [0, no rank, superkingdom, phylum, class, orde...  \n",
       "3        [0, no rank, superkingdom, phylum, class, orde...  \n",
       "4        [0, no rank, superkingdom, phylum, class, orde...  \n",
       "...                                                    ...  \n",
       "2520227  [0, superkingdom, clade, kingdom, phylum, clas...  \n",
       "2520228  [0, superkingdom, clade, kingdom, phylum, clas...  \n",
       "2520229  [0, no rank, superkingdom, clade, clade, phylu...  \n",
       "2520230  [0, no rank, superkingdom, phylum, class, orde...  \n",
       "2520231  [0, no rank, superkingdom, phylum, class, orde...  \n",
       "\n",
       "[2520232 rows x 3 columns]"
      ]
     },
     "execution_count": 24,
     "metadata": {},
     "output_type": "execute_result"
    }
   ],
   "source": [
    "taxonomy_path_df"
   ]
  },
  {
   "cell_type": "code",
   "execution_count": 25,
   "metadata": {},
   "outputs": [],
   "source": [
    "def createNewCollection(db, collectionName):\n",
    "    # Create the new collection\n",
    "    \n",
    "    collection = db[collectionName]\n",
    "\n",
    "    print(f\"Collection '{collectionName}' created successfully.\")\n",
    "\n",
    "    return collection"
   ]
  },
  {
   "cell_type": "code",
   "execution_count": 26,
   "metadata": {},
   "outputs": [
    {
     "name": "stdout",
     "output_type": "stream",
     "text": [
      "Collection 'taxonomy' created successfully.\n"
     ]
    }
   ],
   "source": [
    "# Set MongoDB connection uri\n",
    "connectionURI = keys['connectionURI']\n"
   ]
  },
  {
   "cell_type": "code",
   "execution_count": null,
   "metadata": {},
   "outputs": [],
   "source": [
    "\n",
    "# Connect to MongoDB\n",
    "client = MongoClient(connectionURI)\n",
    "\n",
    "# Select the database and collection\n",
    "db = client.tumorBoard\n",
    "collection = createNewCollection(db, \"taxonomy\")"
   ]
  },
  {
   "cell_type": "code",
   "execution_count": 27,
   "metadata": {},
   "outputs": [],
   "source": [
    "data_to_insert = taxonomy_path_df.to_dict(orient=\"records\")"
   ]
  },
  {
   "cell_type": "code",
   "execution_count": 28,
   "metadata": {},
   "outputs": [
    {
     "data": {
      "text/plain": [
       "[{'id': 2,\n",
       "  'taxonomy_path': ['root', 'cellular organisms', 'Bacteria'],\n",
       "  'taxonomy_rank': ['0', 'no rank', 'superkingdom']},\n",
       " {'id': 6,\n",
       "  'taxonomy_path': ['root',\n",
       "   'cellular organisms',\n",
       "   'Bacteria',\n",
       "   'Pseudomonadota',\n",
       "   'Alphaproteobacteria',\n",
       "   'Hyphomicrobiales',\n",
       "   'Xanthobacteraceae',\n",
       "   'Azorhizobium'],\n",
       "  'taxonomy_rank': ['0',\n",
       "   'no rank',\n",
       "   'superkingdom',\n",
       "   'phylum',\n",
       "   'class',\n",
       "   'order',\n",
       "   'family',\n",
       "   'genus']},\n",
       " {'id': 7,\n",
       "  'taxonomy_path': ['root',\n",
       "   'cellular organisms',\n",
       "   'Bacteria',\n",
       "   'Pseudomonadota',\n",
       "   'Alphaproteobacteria',\n",
       "   'Hyphomicrobiales',\n",
       "   'Xanthobacteraceae',\n",
       "   'Azorhizobium',\n",
       "   'Azorhizobium caulinodans'],\n",
       "  'taxonomy_rank': ['0',\n",
       "   'no rank',\n",
       "   'superkingdom',\n",
       "   'phylum',\n",
       "   'class',\n",
       "   'order',\n",
       "   'family',\n",
       "   'genus',\n",
       "   'species']},\n",
       " {'id': 9,\n",
       "  'taxonomy_path': ['root',\n",
       "   'cellular organisms',\n",
       "   'Bacteria',\n",
       "   'Pseudomonadota',\n",
       "   'Gammaproteobacteria',\n",
       "   'Enterobacterales',\n",
       "   'Erwiniaceae',\n",
       "   'Buchnera',\n",
       "   'Buchnera aphidicola'],\n",
       "  'taxonomy_rank': ['0',\n",
       "   'no rank',\n",
       "   'superkingdom',\n",
       "   'phylum',\n",
       "   'class',\n",
       "   'order',\n",
       "   'family',\n",
       "   'genus',\n",
       "   'species']},\n",
       " {'id': 10,\n",
       "  'taxonomy_path': ['root',\n",
       "   'cellular organisms',\n",
       "   'Bacteria',\n",
       "   'Pseudomonadota',\n",
       "   'Gammaproteobacteria',\n",
       "   'Cellvibrionales',\n",
       "   'Cellvibrionaceae',\n",
       "   'Cellvibrio'],\n",
       "  'taxonomy_rank': ['0',\n",
       "   'no rank',\n",
       "   'superkingdom',\n",
       "   'phylum',\n",
       "   'class',\n",
       "   'order',\n",
       "   'family',\n",
       "   'genus']}]"
      ]
     },
     "execution_count": 28,
     "metadata": {},
     "output_type": "execute_result"
    }
   ],
   "source": [
    "data_to_insert[:5]"
   ]
  },
  {
   "cell_type": "code",
   "execution_count": 29,
   "metadata": {},
   "outputs": [
    {
     "name": "stdout",
     "output_type": "stream",
     "text": [
      "Deleted 2520232 documents\n"
     ]
    }
   ],
   "source": [
    "# Delete all documents in the collection\n",
    "result = collection.delete_many({})\n",
    "\n",
    "# Print the number of deleted documents\n",
    "print(f'Deleted {result.deleted_count} documents')"
   ]
  },
  {
   "cell_type": "code",
   "execution_count": 30,
   "metadata": {},
   "outputs": [
    {
     "data": {
      "text/plain": [
       "<pymongo.results.InsertManyResult at 0x2a1e8e9e0>"
      ]
     },
     "execution_count": 30,
     "metadata": {},
     "output_type": "execute_result"
    }
   ],
   "source": [
    "collection.insert_many(data_to_insert)"
   ]
  },
  {
   "cell_type": "code",
   "execution_count": 31,
   "metadata": {},
   "outputs": [],
   "source": [
    "client.close()"
   ]
  },
  {
   "cell_type": "code",
   "execution_count": null,
   "metadata": {},
   "outputs": [],
   "source": []
  }
 ],
 "metadata": {
  "kernelspec": {
   "display_name": "Python 3",
   "language": "python",
   "name": "python3"
  },
  "language_info": {
   "codemirror_mode": {
    "name": "ipython",
    "version": 3
   },
   "file_extension": ".py",
   "mimetype": "text/x-python",
   "name": "python",
   "nbconvert_exporter": "python",
   "pygments_lexer": "ipython3",
   "version": "3.11.4"
  },
  "orig_nbformat": 4
 },
 "nbformat": 4,
 "nbformat_minor": 2
}
